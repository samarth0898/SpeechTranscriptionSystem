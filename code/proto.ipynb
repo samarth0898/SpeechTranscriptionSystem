{
 "cells": [
  {
   "cell_type": "code",
   "execution_count": 102,
   "metadata": {},
   "outputs": [],
   "source": [
    "import sys\n",
    "import numpy as np\n",
    "import torch\n",
    "import torch.nn as nn\n",
    "import torch.nn.functional as F\n",
    "import torch.nn.utils.rnn as rnn_utils\n",
    "import torch.optim as optim\n",
    "import torch.nn.utils as utils\n",
    "import seaborn as sns\n",
    "import matplotlib.pyplot as plt\n",
    "import time\n",
    "import random\n",
    "from torch.utils import data\n",
    "from torch.nn.utils.rnn import pad_sequence, pack_padded_sequence, pad_packed_sequence\n",
    "from torch.utils.data import Dataset, DataLoader\n",
    "from typing import List, Tuple, Dict\n",
    "import os"
   ]
  },
  {
   "cell_type": "code",
   "execution_count": 103,
   "metadata": {},
   "outputs": [],
   "source": [
    "class TextPreprocess:\n",
    "    def __init__(self):\n",
    "        self.letter_list = ['<sos>', 'a', 'b', 'c', 'd', 'e', 'f', 'g', 'h', 'i', 'j', 'k', 'l', 'm', 'n', 'o', 'p', 'q', \n",
    "               'r', 's', 't', 'u', 'v', 'w', 'x', 'y', 'z', '-', \"'\", '.', '_', '+', ' ', '<eos>']\n",
    "    \n",
    "    def transform_letter_to_index(self, raw_transcript):\n",
    "        output = []\n",
    "        for transcript in raw_transcript:\n",
    "            temp = [self.letter_list.index(j) for j in transcript]\n",
    "            output.append(temp)\n",
    "        return output\n",
    "    \n",
    "\n",
    "    def create_dictionaries(self):\n",
    "        '''\n",
    "        Create dictionaries for letter2index and index2letter transformations\n",
    "        '''\n",
    "        numbers=np.arange(len(self.letter_list))\n",
    "        letter2index={self.letter_list[i]: numbers[i] for i in range(0, len(self.letter_list))} \n",
    "        index2letter={numbers[i]: self.letter_list[i] for i in range(0, len(self.letter_list))} \n",
    "        return letter2index, index2letter"
   ]
  },
  {
   "cell_type": "code",
   "execution_count": 104,
   "metadata": {},
   "outputs": [
    {
     "name": "stdout",
     "output_type": "stream",
     "text": [
      "Training Points: 10000, Val Points 100\n"
     ]
    }
   ],
   "source": [
    "# Load TOY DATASET for attention map \n",
    "train_data = np.load(\"C:\\\\Users\\\\thopa\\\\Desktop\\\\Assignments\\\\11685\\\\HW4\\\\2022Implementation\\\\2021_ToySet\\\\train.npz\", allow_pickle=True, encoding='bytes')['data']\n",
    "dev_data = np.load(\"C:\\\\Users\\\\thopa\\\\Desktop\\\\Assignments\\\\11685\\\\HW4\\\\2022Implementation\\\\2021_ToySet\\\\dev.npz\",  allow_pickle=True, encoding='bytes')['data']\n",
    "\n",
    "# Load the training, validation raw text transcripts\n",
    "train_labels = np.load(\"C:\\\\Users\\\\thopa\\\\Desktop\\\\Assignments\\\\11685\\\\HW4\\\\2022Implementation\\\\2021_ToySet\\\\train_transcripts.npz\", allow_pickle=True,encoding='bytes')\n",
    "dev_labels = np.load(\"C:\\\\Users\\\\thopa\\\\Desktop\\\\Assignments\\\\11685\\\\HW4\\\\2022Implementation\\\\2021_ToySet\\\\dev_transcripts.npz\",  allow_pickle=True,encoding='bytes')\n",
    "\n",
    "textprocess= TextPreprocess()\n",
    "# Convert the raw text transcripts to indices \n",
    "train_labelIDX = textprocess.transform_letter_to_index(train_labels['data'])\n",
    "val_labelIDX =  textprocess.transform_letter_to_index(dev_labels['data'])\n",
    "\n",
    "print(\"Training Points: {}, Val Points {}\".format(len(train_labelIDX), len(val_labelIDX)))\n",
    "\n",
    "letter2index, index2letter = textprocess.create_dictionaries()"
   ]
  },
  {
   "cell_type": "code",
   "execution_count": 105,
   "metadata": {},
   "outputs": [],
   "source": [
    "# Building attention map with toy dataset \n",
    "class MelVectorDataset(Dataset):\n",
    "    def __init__(self, X, Y, val = False):\n",
    "\n",
    "        # X : Mel Features , Y : Mel Labels \n",
    "        self.X, self.Y = X, Y \n",
    "        self.val = val\n",
    "    \n",
    "    def __len__(self):\n",
    "    \n",
    "        return self.X.shape[0]\n",
    "    \n",
    "    def __getitem__(self, index):\n",
    "        if self.val: \n",
    "            return torch.as_tensor(self.X[index])\n",
    "        else: \n",
    "            return torch.as_tensor(self.X[index]), torch.as_tensor(self.Y[index])\n",
    "\n",
    "#Collate function for uniform padding of the input sequences \n",
    "\n",
    "def collate_train_val(data): \n",
    "    \n",
    "    (xx, yy) = zip(*data)\n",
    "    x_lens = [len(x) for x in xx]\n",
    "    y_lens = [len(y) for y in yy]\n",
    "\n",
    "    xx_pad = pad_sequence(xx,batch_first=True)\n",
    "    yy_pad = pad_sequence(yy,batch_first=True)\n",
    "\n",
    "    x_lens = np.asarray(x_lens)\n",
    "    y_lens = np.asarray(y_lens)\n",
    "    # Some augmentation and masking here may help the network converge better. \n",
    "\n",
    "        \n",
    "    return xx_pad, yy_pad, torch.tensor(x_lens), torch.tensor(y_lens)\n",
    "\n"
   ]
  },
  {
   "cell_type": "code",
   "execution_count": 106,
   "metadata": {},
   "outputs": [],
   "source": [
    "# Datasets for train and validation \n",
    "train_dataset = MelVectorDataset(train_data, train_labelIDX, val = False)\n",
    "val_dataset = MelVectorDataset(dev_data, val_labelIDX, val = True)\n",
    "\n",
    "\n",
    "# Dataloader with collate functionality\n",
    "train_loader = DataLoader(train_dataset, collate_fn= collate_train_val , batch_size= 64, shuffle= True)\n",
    "val_loader = DataLoader(val_dataset, collate_fn= collate_train_val, batch_size= 64, shuffle= False)\n"
   ]
  },
  {
   "cell_type": "code",
   "execution_count": 107,
   "metadata": {},
   "outputs": [],
   "source": [
    "class Encoder(nn.Module):\n",
    "    def __init__(self, input_dim, hidden_dim, key_value_size):\n",
    "        super(Encoder, self).__init__()\n",
    "\n",
    "        self.BiLSTM = nn.LSTM(input_size = input_dim, hidden_size = hidden_dim, num_layers = 3, bidirectional = True)\n",
    "        self.key = nn.Linear(hidden_dim*2, key_value_size)\n",
    "        self.value = nn.Linear(hidden_dim*2, key_value_size)\n",
    "    \n",
    "    def forward(self, input, input_len):\n",
    "        \n",
    "        # To save the number of computations since we are padding zeros \n",
    "        input = rnn_utils.pack_padded_sequence(input, lengths = input_len.cpu(), batch_first= True, enforce_sorted= False)\n",
    "        rnn_out, _ = self.BiLSTM(input)\n",
    "        output, lens = rnn_utils.pad_packed_sequence(rnn_out, batch_first= True)\n",
    "        key = self.key(output)\n",
    "        value = self.value(output)\n",
    "        \n",
    "        return key, value, lens"
   ]
  },
  {
   "cell_type": "code",
   "execution_count": 108,
   "metadata": {},
   "outputs": [],
   "source": [
    "# Attention block \n",
    "\"\"\"\n",
    "Possible Efficiencies with the attention mechanism (d2l book)\n",
    "1) In general, it requires that both the query and the key have the \n",
    "same vector length, say d, even though this can be addressed easily by replacing \n",
    "q⊤k with q⊤Mk where M is a suitably chosen matrix to translate\n",
    "between both spaces. For now assume that the dimensions match.\n",
    "2) Adding dropout weights also helps \n",
    "\"\"\"\n",
    "class Attention(nn.Module):\n",
    "    def __init__(self):\n",
    "        super(Attention, self).__init__()\n",
    "    \n",
    "    def forward(self, query, key, value, mask):\n",
    "        energy = torch.bmm(key, query.unsqueeze(2))\n",
    "        energy = torch.squeeze(energy, dim = 2)\n",
    "\n",
    "        #What should the mask least value be? \n",
    "        energy.masked_fill_(mask, -1e9)\n",
    "\n",
    "        attention = torch.nn.functional.softmax(energy, dim = 1)\n",
    "        context = torch.bmm(attention.unsqueeze(1), value)\n",
    "        \n",
    "        return context, attention"
   ]
  },
  {
   "cell_type": "code",
   "execution_count": 109,
   "metadata": {},
   "outputs": [],
   "source": [
    "# Decoder ~ according to the speller of the LAS paper \n",
    "\n",
    "class Decoder(nn.Module):\n",
    "    def __init__(self, embed_dim, key_value_size, vocab_size):\n",
    "        super(Decoder, self).__init__()\n",
    "        \n",
    "        \"\"\"\n",
    "        A simple lookup table that stores embeddings of a fixed dictionary and size.\n",
    "        This module is often used to store word embeddings and retrieve them using indices. \n",
    "        The input to the module is a list of indices, and the output is the corresponding word embeddings.\n",
    "        \"\"\"\n",
    "        self.embedding = nn.Embedding(vocab_size, embed_dim, padding_idx = 0 ).cuda()\n",
    "        self.lstm1 = nn.LSTMCell(embed_dim + key_value_size , key_value_size)\n",
    "        self.vocab_size = vocab_size\n",
    "        self.attention = Attention()\n",
    "        self.character_prob = nn.Linear(2*key_value_size, vocab_size)\n",
    "        self.key_value_size = key_value_size\n",
    "        self.device = \"cuda\"\n",
    "        \n",
    "    def forward(self, key, value, encoder_len, y = None, mode = \"train\", teacherForcingRate = 0.1, isGumbel = False ):\n",
    "        \n",
    "        batch, key_seq_max_len, key_value_size = key.shape\n",
    "\n",
    "\n",
    "        # Attention mask for making the system autoregressive \n",
    "        mask = torch.arange(key_seq_max_len).unsqueeze(0)>=encoder_len.unsqueeze(1)\n",
    "        mask = mask.to(self.device)\n",
    "\n",
    "        # List to store output attention plots \n",
    "        predictions, attention_plot = [], []\n",
    "        prediction = torch.full((batch,1), fill_value= 0 ,device= self.device)\n",
    "\n",
    "        # Hidden states\n",
    "        hidden_state= [None, None]\n",
    "        context = value[:,0,:]\n",
    "\n",
    "        if mode == \"train\":\n",
    "            max_len = y.shape[1]\n",
    "            char_embedding = self.embedding(y)\n",
    "        else: \n",
    "            max_len = 300\n",
    "\n",
    "        for i in range(max_len):\n",
    "            if mode == \"train\":\n",
    "                # Teacher Forcing regime ~ Assigned and picked randomly \n",
    "                teacher_forcing = True if random.random() > teacherForcingRate else False \n",
    "                if not teacher_forcing:\n",
    "                    if i != 0 : # use Gumbel noise to add noise to add variety to phoneme\n",
    "                        char_embed = torch.nn.functional.gumbel_softmax(prediction).mm(self.embedding.weight)\n",
    "                    else:\n",
    "                        char_embed = self.embedding(prediction.argmax(dim=-1))\n",
    "                else:\n",
    "                    if i == 0:\n",
    "                        char_embed = self.embedding(torch.zeros(batch, dtype = torch.long).fill_(letter2index['<sos>']).to(self.device)) \n",
    "                    else: \n",
    "                        char_embed = char_embedding[:,i-1,:] # ground truth teacher forcing \n",
    "            # Validation mode \n",
    "            else: \n",
    "                if i == 0: \n",
    "                    char_embed = self.embedding(torch.zeros(batch, dtype = torch.long).fill_(letter2index['<sos>']).to(self.device)) \n",
    "                else: \n",
    "                    char_embed = self.embedding(prediction.argmax(dim = -1)) # feed in the previous prediction as input \n",
    "            \n",
    "            # Input to the decoder (prev embedding + context from attention mechanism) \n",
    "            y_context = torch.cat([char_embed, context.squeeze(1)], dim = 1)\n",
    "            hidden_state[0] = self.lstm1(y_context, hidden_state[0])\n",
    "\n",
    "            # What is the query? (same len as the key)\n",
    "            # Hidden state of the LSTM \n",
    "            query = hidden_state[0][0]\n",
    "            context, attention = self.attention(query, key, value, mask)\n",
    "            attention_plot.append(attention[0].detach().cpu())\n",
    "\n",
    "            output_context = torch.cat([query, context.squeeze(1)], dim = 1)\n",
    "            prediction = self.character_prob(output_context)\n",
    "            predictions.append(prediction.unsqueeze(1))\n",
    "        attentions = torch.stack(attention_plot, dim = 0)\n",
    "        predictions = torch.cat(predictions, dim = 1 )\n",
    "\n",
    "        return predictions, attentions"
   ]
  },
  {
   "cell_type": "code",
   "execution_count": 110,
   "metadata": {},
   "outputs": [],
   "source": [
    "class Seq2Seq(nn.Module):\n",
    "    def __init__(self, input_dim, encoder_hidden_dim, vocab_size, embed_dim, key_value_size = 128):\n",
    "        super(Seq2Seq, self).__init__()\n",
    "        self.encoder = Encoder(input_dim = input_dim, hidden_dim = encoder_hidden_dim, key_value_size = key_value_size )\n",
    "        self.decoder = Decoder(vocab_size = vocab_size, embed_dim = embed_dim, key_value_size= key_value_size)\n",
    "    \n",
    "    def forward(self, x, x_len, y = None, mode = \"train\", isTrain = True):\n",
    "        key, value, encoder_len = self.encoder(x, x_len)\n",
    "        predictions, attentions = self.decoder(key, value, encoder_len, y, mode)\n",
    "\n",
    "        return predictions, attentions"
   ]
  },
  {
   "cell_type": "code",
   "execution_count": 111,
   "metadata": {},
   "outputs": [],
   "source": [
    "seq2seq_model = Seq2Seq(input_dim = 40,vocab_size = 34, encoder_hidden_dim = 128, embed_dim = 128)\n",
    "model=seq2seq_model.cuda()\n",
    "\n",
    "# Some other hyperparameter \n",
    "optimizer = optim.Adam(model.parameters(), lr= 2e-3)\n",
    "\n",
    "\"\"\"\n",
    "This criterion computes the cross entropy loss between input logits and target.\n",
    "\n",
    "It is useful when training a classification problem with C classes. \n",
    "If provided, the optional argument weight should be a 1D Tensor assigning weight to each of the classes. \n",
    "This is particularly useful when you have an unbalanced training set.\n",
    "\n",
    "\"\"\"\n",
    "criterion = nn.CrossEntropyLoss(reduction = 'none')"
   ]
  },
  {
   "cell_type": "code",
   "execution_count": 99,
   "metadata": {},
   "outputs": [],
   "source": [
    "\"\"\"\n",
    "Attention map plotting \n",
    "\n",
    "\"\"\"\n",
    "def plot_attention(attention, idx):\n",
    "    # utility function for debugging\n",
    "    path = \"C:\\\\Users\\\\thopa\\\\Desktop\\\\Assignments\\\\11685\\\\HW4\\\\2022Implementation\\\\code\\\\results\\\\\"\n",
    "    plt.clf()\n",
    "    sns.heatmap(attention, cmap='GnBu')\n",
    "    plt.savefig(\"{}_attn.png\".format(path + idx))"
   ]
  },
  {
   "cell_type": "code",
   "execution_count": 100,
   "metadata": {},
   "outputs": [
    {
     "name": "stderr",
     "output_type": "stream",
     "text": [
      "C:\\Users\\thopa\\AppData\\Local\\Temp\\ipykernel_24280\\3637603455.py:15: UserWarning: To copy construct from a tensor, it is recommended to use sourceTensor.clone().detach() or sourceTensor.clone().detach().requires_grad_(True), rather than torch.tensor(sourceTensor).\n",
      "  max_len = torch.max(torch.tensor(label_len))\n"
     ]
    },
    {
     "name": "stdout",
     "output_type": "stream",
     "text": [
      "Epoch[0/20] Training Loss: 3.2331273555755615\n",
      "Epoch[1/20] Training Loss: 3.2097597122192383\n",
      "Epoch[2/20] Training Loss: 3.2013869285583496\n",
      "Epoch[3/20] Training Loss: 3.1652865409851074\n",
      "Epoch[4/20] Training Loss: 2.9352993965148926\n",
      "Epoch[5/20] Training Loss: 2.557483673095703\n",
      "Epoch[6/20] Training Loss: 2.2713112831115723\n",
      "Epoch[7/20] Training Loss: 2.734706163406372\n",
      "Epoch[8/20] Training Loss: 2.70078706741333\n",
      "Epoch[9/20] Training Loss: 2.5099875926971436\n",
      "Epoch[10/20] Training Loss: 2.654869556427002\n",
      "Epoch[11/20] Training Loss: 2.8881139755249023\n",
      "Epoch[12/20] Training Loss: 3.0763747692108154\n",
      "Epoch[13/20] Training Loss: 2.839353561401367\n",
      "Epoch[14/20] Training Loss: 2.949983596801758\n"
     ]
    },
    {
     "ename": "KeyboardInterrupt",
     "evalue": "",
     "output_type": "error",
     "traceback": [
      "\u001b[1;31m---------------------------------------------------------------------------\u001b[0m",
      "\u001b[1;31mKeyboardInterrupt\u001b[0m                         Traceback (most recent call last)",
      "Cell \u001b[1;32mIn [100], line 23\u001b[0m\n\u001b[0;32m     20\u001b[0m loss \u001b[39m=\u001b[39m criterion(pred\u001b[39m.\u001b[39mview(\u001b[39m-\u001b[39m\u001b[39m1\u001b[39m, pred\u001b[39m.\u001b[39msize(\u001b[39m2\u001b[39m)), label\u001b[39m.\u001b[39mview(\u001b[39m-\u001b[39m\u001b[39m1\u001b[39m))\n\u001b[0;32m     21\u001b[0m masked_loss \u001b[39m=\u001b[39m torch\u001b[39m.\u001b[39msum(loss \u001b[39m*\u001b[39m mask\u001b[39m.\u001b[39mview(\u001b[39m-\u001b[39m\u001b[39m1\u001b[39m)) \u001b[39m/\u001b[39m torch\u001b[39m.\u001b[39msum(mask)\n\u001b[1;32m---> 23\u001b[0m masked_loss\u001b[39m.\u001b[39;49mbackward()\n\u001b[0;32m     24\u001b[0m running_loss\u001b[39m+\u001b[39m\u001b[39m=\u001b[39mmasked_loss\n\u001b[0;32m     25\u001b[0m optimizer\u001b[39m.\u001b[39mstep()\n",
      "File \u001b[1;32md:\\anaconda\\envs\\PointNet\\lib\\site-packages\\torch\\_tensor.py:396\u001b[0m, in \u001b[0;36mTensor.backward\u001b[1;34m(self, gradient, retain_graph, create_graph, inputs)\u001b[0m\n\u001b[0;32m    387\u001b[0m \u001b[39mif\u001b[39;00m has_torch_function_unary(\u001b[39mself\u001b[39m):\n\u001b[0;32m    388\u001b[0m     \u001b[39mreturn\u001b[39;00m handle_torch_function(\n\u001b[0;32m    389\u001b[0m         Tensor\u001b[39m.\u001b[39mbackward,\n\u001b[0;32m    390\u001b[0m         (\u001b[39mself\u001b[39m,),\n\u001b[1;32m   (...)\u001b[0m\n\u001b[0;32m    394\u001b[0m         create_graph\u001b[39m=\u001b[39mcreate_graph,\n\u001b[0;32m    395\u001b[0m         inputs\u001b[39m=\u001b[39minputs)\n\u001b[1;32m--> 396\u001b[0m torch\u001b[39m.\u001b[39;49mautograd\u001b[39m.\u001b[39;49mbackward(\u001b[39mself\u001b[39;49m, gradient, retain_graph, create_graph, inputs\u001b[39m=\u001b[39;49minputs)\n",
      "File \u001b[1;32md:\\anaconda\\envs\\PointNet\\lib\\site-packages\\torch\\autograd\\__init__.py:173\u001b[0m, in \u001b[0;36mbackward\u001b[1;34m(tensors, grad_tensors, retain_graph, create_graph, grad_variables, inputs)\u001b[0m\n\u001b[0;32m    168\u001b[0m     retain_graph \u001b[39m=\u001b[39m create_graph\n\u001b[0;32m    170\u001b[0m \u001b[39m# The reason we repeat same the comment below is that\u001b[39;00m\n\u001b[0;32m    171\u001b[0m \u001b[39m# some Python versions print out the first line of a multi-line function\u001b[39;00m\n\u001b[0;32m    172\u001b[0m \u001b[39m# calls in the traceback and some print out the last line\u001b[39;00m\n\u001b[1;32m--> 173\u001b[0m Variable\u001b[39m.\u001b[39;49m_execution_engine\u001b[39m.\u001b[39;49mrun_backward(  \u001b[39m# Calls into the C++ engine to run the backward pass\u001b[39;49;00m\n\u001b[0;32m    174\u001b[0m     tensors, grad_tensors_, retain_graph, create_graph, inputs,\n\u001b[0;32m    175\u001b[0m     allow_unreachable\u001b[39m=\u001b[39;49m\u001b[39mTrue\u001b[39;49;00m, accumulate_grad\u001b[39m=\u001b[39;49m\u001b[39mTrue\u001b[39;49;00m)\n",
      "\u001b[1;31mKeyboardInterrupt\u001b[0m: "
     ]
    },
    {
     "data": {
      "image/png": "[encoded data removed]",
      "text/plain": [
       "<Figure size 640x480 with 2 Axes>"
      ]
     },
     "metadata": {},
     "output_type": "display_data"
    }
   ],
   "source": [
    "# Training sequence \n",
    "epochs = 20\n",
    "device = 'cuda'\n",
    "for epoch in range(epochs):\n",
    "    model.train()\n",
    "    running_loss = 0\n",
    "    for i,(data,label, data_len, label_len) in enumerate(train_loader):\n",
    "\n",
    "        # Avoid gradient accumulation\n",
    "        optimizer.zero_grad()\n",
    "        data, datalen, label, label_len = data.to(device), data_len, label.to(device), label_len\n",
    "        pred, attn = model(x = data, x_len = datalen, y = label, mode = \"train\")\n",
    "\n",
    "        # Dealing with masking and masking loss etc.\n",
    "        max_len = torch.max(torch.tensor(label_len))\n",
    "        lst = torch.arange(0,max_len).repeat(label_len.size(0),1)\n",
    "  \n",
    "        seq_len = label_len.unsqueeze(1).expand(label_len.size(0),max_len)\n",
    "        mask = (lst<seq_len).int().cuda() \n",
    "        loss = criterion(pred.view(-1, pred.size(2)), label.view(-1))\n",
    "        masked_loss = torch.sum(loss * mask.view(-1)) / torch.sum(mask)\n",
    "\n",
    "        masked_loss.backward()\n",
    "        running_loss+=masked_loss\n",
    "        optimizer.step()\n",
    "        idx = \"{}_{}\".format(epoch, i)\n",
    "        plot_attention(attn,idx)\n",
    "\n",
    "    print(\"Epoch[{}/{}] Training Loss: {}\".format(epoch, epochs, running_loss/len(train_loader)))\n",
    "    torch.save({'train_loss_history': running_loss,'optimizer_state_dict': optimizer.state_dict(), 'model_state_dict' : model.state_dict()}, os.path.join(\"C:\\\\Users\\\\thopa\\\\Desktop\\\\Assignments\\\\11685\\\\HW4\\\\2022Implementation\\\\code\\\\ckpt\", 'seq2seq_epoch_{}.pth'.format(epoch)))\n"
   ]
  },
  {
   "cell_type": "code",
   "execution_count": 112,
   "metadata": {},
   "outputs": [
    {
     "name": "stderr",
     "output_type": "stream",
     "text": [
      "C:\\Users\\thopa\\AppData\\Local\\Temp\\ipykernel_24280\\3324046309.py:8: DeprecationWarning: Starting with ImageIO v3 the behavior of this function will switch to that of iio.v3.imread. To keep the current behavior (and make this warning disappear) use `import imageio.v2 as imageio` or call `imageio.v2.imread` directly.\n",
      "  images.append(imageio.imread(filename))\n"
     ]
    }
   ],
   "source": [
    "import imageio\n",
    "import glob \n",
    "\n",
    "images = []\n",
    "filenames = \"C:\\\\Users\\\\thopa\\\\Desktop\\\\Assignments\\\\11685\\\\HW4\\\\2022Implementation\\\\code\\\\results\\\\*.png\"\n",
    "out = \"C:\\\\Users\\\\thopa\\\\Desktop\\\\Assignments\\\\11685\\\\HW4\\\\2022Implementation\\\\code\\\\gifs\\\\\"\n",
    "for filename in sorted(glob.glob(filenames)):\n",
    "    images.append(imageio.imread(filename))\n",
    "imageio.mimsave('{}\\\\attention.gif'.format( out), images)"
   ]
  },
  {
   "cell_type": "code",
   "execution_count": null,
   "metadata": {},
   "outputs": [],
   "source": []
  }
 ],
 "metadata": {
  "kernelspec": {
   "display_name": "PointNet",
   "language": "python",
   "name": "python3"
  },
  "language_info": {
   "codemirror_mode": {
    "name": "ipython",
    "version": 3
   },
   "file_extension": ".py",
   "mimetype": "text/x-python",
   "name": "python",
   "nbconvert_exporter": "python",
   "pygments_lexer": "ipython3",
   "version": "3.9.13"
  },
  "orig_nbformat": 4,
  "vscode": {
   "interpreter": {
    "hash": "be71f7ebca6fc406e8f2b7eb97fc71d65ed284e191505e45141d8f3008802363"
   }
  }
 },
 "nbformat": 4,
 "nbformat_minor": 2
}
